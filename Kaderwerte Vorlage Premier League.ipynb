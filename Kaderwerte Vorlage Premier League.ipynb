{
 "cells": [
  {
   "cell_type": "markdown",
   "metadata": {},
   "source": [
    "## Scrapen & Bereinigen"
   ]
  },
  {
   "cell_type": "code",
   "execution_count": 29,
   "metadata": {},
   "outputs": [],
   "source": [
    "import requests\n",
    "from bs4 import BeautifulSoup\n",
    "import pandas as pd"
   ]
  },
  {
   "cell_type": "code",
   "execution_count": 30,
   "metadata": {},
   "outputs": [
    {
     "name": "stdout",
     "output_type": "stream",
     "text": [
      "https://www.transfermarkt.ch/premier-league/startseite/wettbewerb/GB1/plus/?saison_id=2008\n",
      "https://www.transfermarkt.ch/premier-league/startseite/wettbewerb/GB1/plus/?saison_id=2009\n",
      "https://www.transfermarkt.ch/premier-league/startseite/wettbewerb/GB1/plus/?saison_id=2010\n",
      "https://www.transfermarkt.ch/premier-league/startseite/wettbewerb/GB1/plus/?saison_id=2011\n",
      "https://www.transfermarkt.ch/premier-league/startseite/wettbewerb/GB1/plus/?saison_id=2012\n",
      "https://www.transfermarkt.ch/premier-league/startseite/wettbewerb/GB1/plus/?saison_id=2013\n",
      "https://www.transfermarkt.ch/premier-league/startseite/wettbewerb/GB1/plus/?saison_id=2014\n",
      "https://www.transfermarkt.ch/premier-league/startseite/wettbewerb/GB1/plus/?saison_id=2015\n",
      "https://www.transfermarkt.ch/premier-league/startseite/wettbewerb/GB1/plus/?saison_id=2016\n",
      "https://www.transfermarkt.ch/premier-league/startseite/wettbewerb/GB1/plus/?saison_id=2017\n",
      "https://www.transfermarkt.ch/premier-league/startseite/wettbewerb/GB1/plus/?saison_id=2018\n"
     ]
    }
   ],
   "source": [
    "allejahre = []\n",
    "jahre = list(range(2008,2019))\n",
    "\n",
    "for jahr in jahre:\n",
    "    url = \"https://www.transfermarkt.ch/premier-league/startseite/wettbewerb/GB1/plus/?saison_id=\"\n",
    "    url = url+str(jahr)\n",
    "    print(url)\n",
    "    headers = {'User-Agent': 'Mozilla/5.0 (Macintosh; Intel Mac OS X 10_10_1) AppleWebKit/537.36 (KHTML, like Gecko) Chrome/39.0.2171.95 Safari/537.36'}\n",
    "    r = requests.get(url, headers=headers)\n",
    "    soup = BeautifulSoup(r.text, 'html.parser')\n",
    "    \n",
    "    vereine = soup.find_all('td', {'class':'hauptlink no-border-links show-for-small show-for-pad'})\n",
    "    beträge = soup.find_all('td', {'class':'rechts show-for-small show-for-pad nowrap'})\n",
    "    \n",
    "    for team, wert in zip(vereine, beträge[2:][::2]):\n",
    "        team = team.text\n",
    "        wert_mit_punkt = wert.text.replace(\",\",\".\")\n",
    "        if \" Mrd\" in wert_mit_punkt:\n",
    "            neuwert = float(wert_mit_punkt.replace(\" Mrd. €\",\"\"))*1000\n",
    "        else:\n",
    "            neuwert = float(wert_mit_punkt.replace(\" Mio. €\",\"\"))\n",
    "        wert = float(wert.text.replace(' Mio. €', '').replace(\" Mrd. €\",\"\").replace(',', '.'))\n",
    "        minidict = {'Team': team,\n",
    "                    'Wert': neuwert,\n",
    "                    'Saison':str(jahr)}\n",
    "        allejahre.append(minidict)"
   ]
  },
  {
   "cell_type": "markdown",
   "metadata": {},
   "source": [
    "### Ausgeben als csv"
   ]
  },
  {
   "cell_type": "code",
   "execution_count": 31,
   "metadata": {},
   "outputs": [],
   "source": [
    "df = pd.DataFrame(allejahre)"
   ]
  },
  {
   "cell_type": "code",
   "execution_count": 32,
   "metadata": {},
   "outputs": [],
   "source": [
    "df.to_csv(\"premierleague.csv\")"
   ]
  },
  {
   "cell_type": "markdown",
   "metadata": {},
   "source": [
    "## Für alle Ligen erstellen\n",
    "\n",
    "Deutschland, England: oberste 3 Ligen\n",
    "Spanien, Italien, Frankreich, Schweiz: oberste 2 Ligen"
   ]
  },
  {
   "cell_type": "code",
   "execution_count": 58,
   "metadata": {},
   "outputs": [
    {
     "data": {
      "text/plain": [
       "['https://www.transfermarkt.ch/1-bundesliga/startseite/wettbewerb/L1/plus/?saison_id=',\n",
       " 'https://www.transfermarkt.ch/2-bundesliga/startseite/wettbewerb/L2/plus/?saison_id=',\n",
       " 'https://www.transfermarkt.ch/3-liga/startseite/wettbewerb/L3/plus/?saison_id=',\n",
       " 'https://www.transfermarkt.ch/premier-league/startseite/wettbewerb/GB1/plus/?saison_id=',\n",
       " 'https://www.transfermarkt.ch/championship/startseite/wettbewerb/GB2/plus/?saison_id=',\n",
       " 'https://www.transfermarkt.ch/league-one/startseite/wettbewerb/GB3/plus/?saison_id=',\n",
       " 'https://www.transfermarkt.ch/laliga/startseite/wettbewerb/ES1/plus/?saison_id=',\n",
       " 'https://www.transfermarkt.ch/laliga2/startseite/wettbewerb/ES2/plus/?saison_id=',\n",
       " 'https://www.transfermarkt.ch/serie-a/startseite/wettbewerb/IT1/plus/?saison_id=',\n",
       " 'https://www.transfermarkt.ch/serie-b/startseite/wettbewerb/IT2/plus/?saison_id=',\n",
       " 'https://www.transfermarkt.ch/ligue-1/startseite/wettbewerb/FR1/plus/?saison_id=',\n",
       " 'https://www.transfermarkt.ch/ligue-2/startseite/wettbewerb/FR2/plus/?saison_id=',\n",
       " 'https://www.transfermarkt.ch/super-league/startseite/wettbewerb/C1/plus/?saison_id=',\n",
       " 'https://www.transfermarkt.ch/challenge-league/startseite/wettbewerb/C2/plus/?saison_id=']"
      ]
     },
     "execution_count": 58,
     "metadata": {},
     "output_type": "execute_result"
    }
   ],
   "source": [
    "alleligen = [\"https://www.transfermarkt.ch/1-bundesliga/startseite/wettbewerb/L1/plus/?saison_id=\", \n",
    "             \"https://www.transfermarkt.ch/2-bundesliga/startseite/wettbewerb/L2/plus/?saison_id=\", \n",
    "             \"https://www.transfermarkt.ch/3-liga/startseite/wettbewerb/L3/plus/?saison_id=\",\n",
    "             \"https://www.transfermarkt.ch/premier-league/startseite/wettbewerb/GB1/plus/?saison_id=\", \n",
    "             \"https://www.transfermarkt.ch/championship/startseite/wettbewerb/GB2/plus/?saison_id=\",\n",
    "             \"https://www.transfermarkt.ch/league-one/startseite/wettbewerb/GB3/plus/?saison_id=\",\n",
    "             \"https://www.transfermarkt.ch/laliga/startseite/wettbewerb/ES1/plus/?saison_id=\", \n",
    "             \"https://www.transfermarkt.ch/laliga2/startseite/wettbewerb/ES2/plus/?saison_id=\", \n",
    "             \"https://www.transfermarkt.ch/serie-a/startseite/wettbewerb/IT1/plus/?saison_id=\", \n",
    "             \"https://www.transfermarkt.ch/serie-b/startseite/wettbewerb/IT2/plus/?saison_id=\", \n",
    "             \"https://www.transfermarkt.ch/ligue-1/startseite/wettbewerb/FR1/plus/?saison_id=\", \n",
    "             \"https://www.transfermarkt.ch/ligue-2/startseite/wettbewerb/FR2/plus/?saison_id=\", \n",
    "             \"https://www.transfermarkt.ch/super-league/startseite/wettbewerb/C1/plus/?saison_id=\", \n",
    "             \"https://www.transfermarkt.ch/challenge-league/startseite/wettbewerb/C2/plus/?saison_id=\"]\n",
    "alleligen"
   ]
  },
  {
   "cell_type": "markdown",
   "metadata": {},
   "source": [
    "Probleme:\n",
    "- Umrechnung Milliarden, Millionen, Tausend\n",
    "- Teams, die weiter unten waren als in der 2./3. Liga (von Hand suchen)\n",
    "- Sortierung nach Ländern, Liga: fehlt so noch\n",
    "- Wie wähle ich nur diejenigen Teams aus, welche 2018 in der höchsten Liga vertreten waren?"
   ]
  },
  {
   "cell_type": "code",
   "execution_count": 59,
   "metadata": {},
   "outputs": [
    {
     "name": "stdout",
     "output_type": "stream",
     "text": [
      "https://www.transfermarkt.ch/1-bundesliga/startseite/wettbewerb/L1/plus/?saison_id=2008\n",
      "https://www.transfermarkt.ch/1-bundesliga/startseite/wettbewerb/L1/plus/?saison_id=2009\n",
      "https://www.transfermarkt.ch/1-bundesliga/startseite/wettbewerb/L1/plus/?saison_id=2010\n",
      "https://www.transfermarkt.ch/1-bundesliga/startseite/wettbewerb/L1/plus/?saison_id=2011\n",
      "https://www.transfermarkt.ch/1-bundesliga/startseite/wettbewerb/L1/plus/?saison_id=2012\n",
      "https://www.transfermarkt.ch/1-bundesliga/startseite/wettbewerb/L1/plus/?saison_id=2013\n",
      "https://www.transfermarkt.ch/1-bundesliga/startseite/wettbewerb/L1/plus/?saison_id=2014\n",
      "https://www.transfermarkt.ch/1-bundesliga/startseite/wettbewerb/L1/plus/?saison_id=2015\n",
      "https://www.transfermarkt.ch/1-bundesliga/startseite/wettbewerb/L1/plus/?saison_id=2016\n",
      "https://www.transfermarkt.ch/1-bundesliga/startseite/wettbewerb/L1/plus/?saison_id=2017\n",
      "https://www.transfermarkt.ch/1-bundesliga/startseite/wettbewerb/L1/plus/?saison_id=2018\n",
      "https://www.transfermarkt.ch/2-bundesliga/startseite/wettbewerb/L2/plus/?saison_id=2008\n",
      "https://www.transfermarkt.ch/2-bundesliga/startseite/wettbewerb/L2/plus/?saison_id=2009\n",
      "https://www.transfermarkt.ch/2-bundesliga/startseite/wettbewerb/L2/plus/?saison_id=2010\n",
      "https://www.transfermarkt.ch/2-bundesliga/startseite/wettbewerb/L2/plus/?saison_id=2011\n",
      "https://www.transfermarkt.ch/2-bundesliga/startseite/wettbewerb/L2/plus/?saison_id=2012\n",
      "https://www.transfermarkt.ch/2-bundesliga/startseite/wettbewerb/L2/plus/?saison_id=2013\n",
      "https://www.transfermarkt.ch/2-bundesliga/startseite/wettbewerb/L2/plus/?saison_id=2014\n",
      "https://www.transfermarkt.ch/2-bundesliga/startseite/wettbewerb/L2/plus/?saison_id=2015\n",
      "https://www.transfermarkt.ch/2-bundesliga/startseite/wettbewerb/L2/plus/?saison_id=2016\n",
      "https://www.transfermarkt.ch/2-bundesliga/startseite/wettbewerb/L2/plus/?saison_id=2017\n",
      "https://www.transfermarkt.ch/2-bundesliga/startseite/wettbewerb/L2/plus/?saison_id=2018\n",
      "https://www.transfermarkt.ch/3-liga/startseite/wettbewerb/L3/plus/?saison_id=2008\n",
      "https://www.transfermarkt.ch/3-liga/startseite/wettbewerb/L3/plus/?saison_id=2009\n",
      "https://www.transfermarkt.ch/3-liga/startseite/wettbewerb/L3/plus/?saison_id=2010\n",
      "https://www.transfermarkt.ch/3-liga/startseite/wettbewerb/L3/plus/?saison_id=2011\n",
      "https://www.transfermarkt.ch/3-liga/startseite/wettbewerb/L3/plus/?saison_id=2012\n",
      "https://www.transfermarkt.ch/3-liga/startseite/wettbewerb/L3/plus/?saison_id=2013\n",
      "https://www.transfermarkt.ch/3-liga/startseite/wettbewerb/L3/plus/?saison_id=2014\n",
      "https://www.transfermarkt.ch/3-liga/startseite/wettbewerb/L3/plus/?saison_id=2015\n",
      "https://www.transfermarkt.ch/3-liga/startseite/wettbewerb/L3/plus/?saison_id=2016\n",
      "https://www.transfermarkt.ch/3-liga/startseite/wettbewerb/L3/plus/?saison_id=2017\n",
      "https://www.transfermarkt.ch/3-liga/startseite/wettbewerb/L3/plus/?saison_id=2018\n",
      "https://www.transfermarkt.ch/premier-league/startseite/wettbewerb/GB1/plus/?saison_id=2008\n",
      "https://www.transfermarkt.ch/premier-league/startseite/wettbewerb/GB1/plus/?saison_id=2009\n",
      "https://www.transfermarkt.ch/premier-league/startseite/wettbewerb/GB1/plus/?saison_id=2010\n",
      "https://www.transfermarkt.ch/premier-league/startseite/wettbewerb/GB1/plus/?saison_id=2011\n",
      "https://www.transfermarkt.ch/premier-league/startseite/wettbewerb/GB1/plus/?saison_id=2012\n",
      "https://www.transfermarkt.ch/premier-league/startseite/wettbewerb/GB1/plus/?saison_id=2013\n",
      "https://www.transfermarkt.ch/premier-league/startseite/wettbewerb/GB1/plus/?saison_id=2014\n",
      "https://www.transfermarkt.ch/premier-league/startseite/wettbewerb/GB1/plus/?saison_id=2015\n",
      "https://www.transfermarkt.ch/premier-league/startseite/wettbewerb/GB1/plus/?saison_id=2016\n",
      "https://www.transfermarkt.ch/premier-league/startseite/wettbewerb/GB1/plus/?saison_id=2017\n",
      "https://www.transfermarkt.ch/premier-league/startseite/wettbewerb/GB1/plus/?saison_id=2018\n",
      "https://www.transfermarkt.ch/championship/startseite/wettbewerb/GB2/plus/?saison_id=2008\n",
      "https://www.transfermarkt.ch/championship/startseite/wettbewerb/GB2/plus/?saison_id=2009\n",
      "https://www.transfermarkt.ch/championship/startseite/wettbewerb/GB2/plus/?saison_id=2010\n",
      "https://www.transfermarkt.ch/championship/startseite/wettbewerb/GB2/plus/?saison_id=2011\n",
      "https://www.transfermarkt.ch/championship/startseite/wettbewerb/GB2/plus/?saison_id=2012\n",
      "https://www.transfermarkt.ch/championship/startseite/wettbewerb/GB2/plus/?saison_id=2013\n",
      "https://www.transfermarkt.ch/championship/startseite/wettbewerb/GB2/plus/?saison_id=2014\n",
      "https://www.transfermarkt.ch/championship/startseite/wettbewerb/GB2/plus/?saison_id=2015\n",
      "https://www.transfermarkt.ch/championship/startseite/wettbewerb/GB2/plus/?saison_id=2016\n",
      "https://www.transfermarkt.ch/championship/startseite/wettbewerb/GB2/plus/?saison_id=2017\n",
      "https://www.transfermarkt.ch/championship/startseite/wettbewerb/GB2/plus/?saison_id=2018\n",
      "https://www.transfermarkt.ch/league-one/startseite/wettbewerb/GB3/plus/?saison_id=2008\n",
      "https://www.transfermarkt.ch/league-one/startseite/wettbewerb/GB3/plus/?saison_id=2009\n",
      "https://www.transfermarkt.ch/league-one/startseite/wettbewerb/GB3/plus/?saison_id=2010\n",
      "https://www.transfermarkt.ch/league-one/startseite/wettbewerb/GB3/plus/?saison_id=2011\n",
      "https://www.transfermarkt.ch/league-one/startseite/wettbewerb/GB3/plus/?saison_id=2012\n",
      "https://www.transfermarkt.ch/league-one/startseite/wettbewerb/GB3/plus/?saison_id=2013\n",
      "https://www.transfermarkt.ch/league-one/startseite/wettbewerb/GB3/plus/?saison_id=2014\n",
      "https://www.transfermarkt.ch/league-one/startseite/wettbewerb/GB3/plus/?saison_id=2015\n",
      "https://www.transfermarkt.ch/league-one/startseite/wettbewerb/GB3/plus/?saison_id=2016\n",
      "https://www.transfermarkt.ch/league-one/startseite/wettbewerb/GB3/plus/?saison_id=2017\n",
      "https://www.transfermarkt.ch/league-one/startseite/wettbewerb/GB3/plus/?saison_id=2018\n",
      "https://www.transfermarkt.ch/laliga/startseite/wettbewerb/ES1/plus/?saison_id=2008\n",
      "https://www.transfermarkt.ch/laliga/startseite/wettbewerb/ES1/plus/?saison_id=2009\n",
      "https://www.transfermarkt.ch/laliga/startseite/wettbewerb/ES1/plus/?saison_id=2010\n",
      "https://www.transfermarkt.ch/laliga/startseite/wettbewerb/ES1/plus/?saison_id=2011\n",
      "https://www.transfermarkt.ch/laliga/startseite/wettbewerb/ES1/plus/?saison_id=2012\n",
      "https://www.transfermarkt.ch/laliga/startseite/wettbewerb/ES1/plus/?saison_id=2013\n",
      "https://www.transfermarkt.ch/laliga/startseite/wettbewerb/ES1/plus/?saison_id=2014\n",
      "https://www.transfermarkt.ch/laliga/startseite/wettbewerb/ES1/plus/?saison_id=2015\n",
      "https://www.transfermarkt.ch/laliga/startseite/wettbewerb/ES1/plus/?saison_id=2016\n",
      "https://www.transfermarkt.ch/laliga/startseite/wettbewerb/ES1/plus/?saison_id=2017\n",
      "https://www.transfermarkt.ch/laliga/startseite/wettbewerb/ES1/plus/?saison_id=2018\n",
      "https://www.transfermarkt.ch/laliga2/startseite/wettbewerb/ES2/plus/?saison_id=2008\n",
      "https://www.transfermarkt.ch/laliga2/startseite/wettbewerb/ES2/plus/?saison_id=2009\n",
      "https://www.transfermarkt.ch/laliga2/startseite/wettbewerb/ES2/plus/?saison_id=2010\n",
      "https://www.transfermarkt.ch/laliga2/startseite/wettbewerb/ES2/plus/?saison_id=2011\n",
      "https://www.transfermarkt.ch/laliga2/startseite/wettbewerb/ES2/plus/?saison_id=2012\n",
      "https://www.transfermarkt.ch/laliga2/startseite/wettbewerb/ES2/plus/?saison_id=2013\n",
      "https://www.transfermarkt.ch/laliga2/startseite/wettbewerb/ES2/plus/?saison_id=2014\n",
      "https://www.transfermarkt.ch/laliga2/startseite/wettbewerb/ES2/plus/?saison_id=2015\n",
      "https://www.transfermarkt.ch/laliga2/startseite/wettbewerb/ES2/plus/?saison_id=2016\n",
      "https://www.transfermarkt.ch/laliga2/startseite/wettbewerb/ES2/plus/?saison_id=2017\n",
      "https://www.transfermarkt.ch/laliga2/startseite/wettbewerb/ES2/plus/?saison_id=2018\n",
      "https://www.transfermarkt.ch/serie-a/startseite/wettbewerb/IT1/plus/?saison_id=2008\n",
      "https://www.transfermarkt.ch/serie-a/startseite/wettbewerb/IT1/plus/?saison_id=2009\n",
      "https://www.transfermarkt.ch/serie-a/startseite/wettbewerb/IT1/plus/?saison_id=2010\n",
      "https://www.transfermarkt.ch/serie-a/startseite/wettbewerb/IT1/plus/?saison_id=2011\n",
      "https://www.transfermarkt.ch/serie-a/startseite/wettbewerb/IT1/plus/?saison_id=2012\n",
      "https://www.transfermarkt.ch/serie-a/startseite/wettbewerb/IT1/plus/?saison_id=2013\n",
      "https://www.transfermarkt.ch/serie-a/startseite/wettbewerb/IT1/plus/?saison_id=2014\n"
     ]
    },
    {
     "name": "stdout",
     "output_type": "stream",
     "text": [
      "https://www.transfermarkt.ch/serie-a/startseite/wettbewerb/IT1/plus/?saison_id=2015\n",
      "https://www.transfermarkt.ch/serie-a/startseite/wettbewerb/IT1/plus/?saison_id=2016\n",
      "https://www.transfermarkt.ch/serie-a/startseite/wettbewerb/IT1/plus/?saison_id=2017\n",
      "https://www.transfermarkt.ch/serie-a/startseite/wettbewerb/IT1/plus/?saison_id=2018\n",
      "https://www.transfermarkt.ch/serie-b/startseite/wettbewerb/IT2/plus/?saison_id=2008\n",
      "https://www.transfermarkt.ch/serie-b/startseite/wettbewerb/IT2/plus/?saison_id=2009\n",
      "https://www.transfermarkt.ch/serie-b/startseite/wettbewerb/IT2/plus/?saison_id=2010\n",
      "https://www.transfermarkt.ch/serie-b/startseite/wettbewerb/IT2/plus/?saison_id=2011\n",
      "https://www.transfermarkt.ch/serie-b/startseite/wettbewerb/IT2/plus/?saison_id=2012\n",
      "https://www.transfermarkt.ch/serie-b/startseite/wettbewerb/IT2/plus/?saison_id=2013\n",
      "https://www.transfermarkt.ch/serie-b/startseite/wettbewerb/IT2/plus/?saison_id=2014\n",
      "https://www.transfermarkt.ch/serie-b/startseite/wettbewerb/IT2/plus/?saison_id=2015\n",
      "https://www.transfermarkt.ch/serie-b/startseite/wettbewerb/IT2/plus/?saison_id=2016\n",
      "https://www.transfermarkt.ch/serie-b/startseite/wettbewerb/IT2/plus/?saison_id=2017\n",
      "https://www.transfermarkt.ch/serie-b/startseite/wettbewerb/IT2/plus/?saison_id=2018\n",
      "https://www.transfermarkt.ch/ligue-1/startseite/wettbewerb/FR1/plus/?saison_id=2008\n",
      "https://www.transfermarkt.ch/ligue-1/startseite/wettbewerb/FR1/plus/?saison_id=2009\n",
      "https://www.transfermarkt.ch/ligue-1/startseite/wettbewerb/FR1/plus/?saison_id=2010\n",
      "https://www.transfermarkt.ch/ligue-1/startseite/wettbewerb/FR1/plus/?saison_id=2011\n",
      "https://www.transfermarkt.ch/ligue-1/startseite/wettbewerb/FR1/plus/?saison_id=2012\n",
      "https://www.transfermarkt.ch/ligue-1/startseite/wettbewerb/FR1/plus/?saison_id=2013\n",
      "https://www.transfermarkt.ch/ligue-1/startseite/wettbewerb/FR1/plus/?saison_id=2014\n",
      "https://www.transfermarkt.ch/ligue-1/startseite/wettbewerb/FR1/plus/?saison_id=2015\n",
      "https://www.transfermarkt.ch/ligue-1/startseite/wettbewerb/FR1/plus/?saison_id=2016\n",
      "https://www.transfermarkt.ch/ligue-1/startseite/wettbewerb/FR1/plus/?saison_id=2017\n",
      "https://www.transfermarkt.ch/ligue-1/startseite/wettbewerb/FR1/plus/?saison_id=2018\n",
      "https://www.transfermarkt.ch/ligue-2/startseite/wettbewerb/FR2/plus/?saison_id=2008\n",
      "https://www.transfermarkt.ch/ligue-2/startseite/wettbewerb/FR2/plus/?saison_id=2009\n",
      "https://www.transfermarkt.ch/ligue-2/startseite/wettbewerb/FR2/plus/?saison_id=2010\n",
      "https://www.transfermarkt.ch/ligue-2/startseite/wettbewerb/FR2/plus/?saison_id=2011\n",
      "https://www.transfermarkt.ch/ligue-2/startseite/wettbewerb/FR2/plus/?saison_id=2012\n",
      "https://www.transfermarkt.ch/ligue-2/startseite/wettbewerb/FR2/plus/?saison_id=2013\n",
      "https://www.transfermarkt.ch/ligue-2/startseite/wettbewerb/FR2/plus/?saison_id=2014\n",
      "https://www.transfermarkt.ch/ligue-2/startseite/wettbewerb/FR2/plus/?saison_id=2015\n",
      "https://www.transfermarkt.ch/ligue-2/startseite/wettbewerb/FR2/plus/?saison_id=2016\n",
      "https://www.transfermarkt.ch/ligue-2/startseite/wettbewerb/FR2/plus/?saison_id=2017\n",
      "https://www.transfermarkt.ch/ligue-2/startseite/wettbewerb/FR2/plus/?saison_id=2018\n",
      "https://www.transfermarkt.ch/super-league/startseite/wettbewerb/C1/plus/?saison_id=2008\n",
      "https://www.transfermarkt.ch/super-league/startseite/wettbewerb/C1/plus/?saison_id=2009\n",
      "https://www.transfermarkt.ch/super-league/startseite/wettbewerb/C1/plus/?saison_id=2010\n",
      "https://www.transfermarkt.ch/super-league/startseite/wettbewerb/C1/plus/?saison_id=2011\n",
      "https://www.transfermarkt.ch/super-league/startseite/wettbewerb/C1/plus/?saison_id=2012\n",
      "https://www.transfermarkt.ch/super-league/startseite/wettbewerb/C1/plus/?saison_id=2013\n",
      "https://www.transfermarkt.ch/super-league/startseite/wettbewerb/C1/plus/?saison_id=2014\n",
      "https://www.transfermarkt.ch/super-league/startseite/wettbewerb/C1/plus/?saison_id=2015\n",
      "https://www.transfermarkt.ch/super-league/startseite/wettbewerb/C1/plus/?saison_id=2016\n",
      "https://www.transfermarkt.ch/super-league/startseite/wettbewerb/C1/plus/?saison_id=2017\n",
      "https://www.transfermarkt.ch/super-league/startseite/wettbewerb/C1/plus/?saison_id=2018\n",
      "https://www.transfermarkt.ch/challenge-league/startseite/wettbewerb/C2/plus/?saison_id=2008\n",
      "https://www.transfermarkt.ch/challenge-league/startseite/wettbewerb/C2/plus/?saison_id=2009\n",
      "https://www.transfermarkt.ch/challenge-league/startseite/wettbewerb/C2/plus/?saison_id=2010\n",
      "https://www.transfermarkt.ch/challenge-league/startseite/wettbewerb/C2/plus/?saison_id=2011\n",
      "https://www.transfermarkt.ch/challenge-league/startseite/wettbewerb/C2/plus/?saison_id=2012\n",
      "https://www.transfermarkt.ch/challenge-league/startseite/wettbewerb/C2/plus/?saison_id=2013\n",
      "https://www.transfermarkt.ch/challenge-league/startseite/wettbewerb/C2/plus/?saison_id=2014\n",
      "https://www.transfermarkt.ch/challenge-league/startseite/wettbewerb/C2/plus/?saison_id=2015\n",
      "https://www.transfermarkt.ch/challenge-league/startseite/wettbewerb/C2/plus/?saison_id=2016\n",
      "https://www.transfermarkt.ch/challenge-league/startseite/wettbewerb/C2/plus/?saison_id=2017\n",
      "https://www.transfermarkt.ch/challenge-league/startseite/wettbewerb/C2/plus/?saison_id=2018\n"
     ]
    }
   ],
   "source": [
    "alle_allejahre = []\n",
    "jahre = list(range(2008,2019))\n",
    "\n",
    "for liga in alleligen:\n",
    "    for jahr in jahre:\n",
    "        url = liga\n",
    "        url = url+str(jahr)\n",
    "        print(url)\n",
    "        headers = {'User-Agent': 'Mozilla/5.0 (Macintosh; Intel Mac OS X 10_10_1) AppleWebKit/537.36 (KHTML, like Gecko) Chrome/39.0.2171.95 Safari/537.36'}\n",
    "        r = requests.get(url, headers=headers)\n",
    "        soup = BeautifulSoup(r.text, 'html.parser')\n",
    "\n",
    "        vereine = soup.find_all('td', {'class':'hauptlink no-border-links show-for-small show-for-pad'})\n",
    "        beträge = soup.find_all('td', {'class':'rechts show-for-small show-for-pad nowrap'})\n",
    "\n",
    "        for team, wert in zip(vereine, beträge[2:][::2]):\n",
    "            team = team.text\n",
    "            wert_mit_punkt = wert.text.replace(\",\",\".\")\n",
    "            if \" Mrd\" in wert_mit_punkt:\n",
    "                neuwert = float(wert_mit_punkt.replace(\" Mrd. €\",\"\"))*1000\n",
    "            elif \" Tsd\" in wert_mit_punkt:\n",
    "                neuwert = float(wert_mit_punkt.replace(\" Tsd. €\",\"\"))/1000 \n",
    "            else:\n",
    "                neuwert = float(wert_mit_punkt.replace(\" Mio. €\",\"\"))\n",
    "            minidict = {'Team': team,\n",
    "                        'Wert': neuwert,\n",
    "                        'Saison':str(jahr)}\n",
    "            alle_allejahre.append(minidict)"
   ]
  },
  {
   "cell_type": "code",
   "execution_count": 60,
   "metadata": {},
   "outputs": [],
   "source": [
    "df = pd.DataFrame(alle_allejahre)"
   ]
  },
  {
   "cell_type": "code",
   "execution_count": 61,
   "metadata": {},
   "outputs": [],
   "source": [
    "df.to_csv(\"alle_allejahre.csv\")"
   ]
  },
  {
   "cell_type": "code",
   "execution_count": 56,
   "metadata": {},
   "outputs": [
    {
     "data": {
      "text/plain": [
       "3388"
      ]
     },
     "execution_count": 56,
     "metadata": {},
     "output_type": "execute_result"
    }
   ],
   "source": [
    "len(df)"
   ]
  },
  {
   "cell_type": "code",
   "execution_count": null,
   "metadata": {},
   "outputs": [],
   "source": []
  }
 ],
 "metadata": {
  "kernelspec": {
   "display_name": "Python 3",
   "language": "python",
   "name": "python3"
  },
  "language_info": {
   "codemirror_mode": {
    "name": "ipython",
    "version": 3
   },
   "file_extension": ".py",
   "mimetype": "text/x-python",
   "name": "python",
   "nbconvert_exporter": "python",
   "pygments_lexer": "ipython3",
   "version": "3.7.0"
  }
 },
 "nbformat": 4,
 "nbformat_minor": 2
}
